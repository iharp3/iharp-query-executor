{
 "cells": [
  {
   "cell_type": "code",
   "execution_count": null,
   "metadata": {},
   "outputs": [],
   "source": [
    "\"\"\"\n",
    "1. inbound area, outbound time, year, 1: \n",
    "2. inbound area, outbound time, month, 1:\n",
    "3. inbound area, outbound time, day, 1:\n",
    "4. inbound area, outbound time, hour, 1:\n",
    "5. inbound area, outbound time, year, 0.25:\n",
    "6. inbound area, outbound time, month, 0.25:\n",
    "7. inbound area, outbound time, day, 0.25:\n",
    "8. inbound area, outbound time, hour, 0.25:\n",
    "\"\"\"\n",
    "\n",
    "import sys\n",
    "\n",
    "sys.path.append(\"../src\")\n",
    "\n",
    "\n",
    "from query_executor_get_raster import GetRasterExecutor\n",
    "metadata_fpath = \"/data/iharp-customized-storage/storage/post/metadata.csv\"\n",
    "\n",
    "variable = \"2m_temperature\"\n",
    "# inbound area\n",
    "max_lat = 9\n",
    "min_lat = 1\n",
    "min_lon = 6\n",
    "max_lon = 14"
   ]
  },
  {
   "cell_type": "code",
   "execution_count": null,
   "metadata": {},
   "outputs": [],
   "source": [
    "# 1. inbound area, outbound time, year, 1: \n",
    "start_datetime = \"2020-01-01 00:00\"\n",
    "end_datetime = \"2021-12-31 23:00\""
   ]
  }
 ],
 "metadata": {
  "kernelspec": {
   "display_name": "venv",
   "language": "python",
   "name": "python3"
  },
  "language_info": {
   "name": "python",
   "version": "3.12.7"
  }
 },
 "nbformat": 4,
 "nbformat_minor": 2
}
