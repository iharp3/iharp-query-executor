{
 "cells": [
  {
   "cell_type": "code",
   "execution_count": null,
   "metadata": {},
   "outputs": [],
   "source": [
    "import sys\n",
    "\n",
    "sys.path.append(\"../src\")\n",
    "\n",
    "\n",
    "from query_executor_get_raster import GetRasterExecutor\n",
    "# 2. inbound area, inbound time, hour, 0.25: \n",
    "\n",
    "variable = \"2m_temperature\"\n",
    "# inbound area\n",
    "max_lat = 9\n",
    "min_lat = 1\n",
    "min_lon = 6\n",
    "max_lon = 14\n",
    "# inbound time\n",
    "start_datetime = \"1983-11-01 00:00\"\n",
    "end_datetime = \"1983-11-30 23:00\"\n",
    "\n",
    "time_resolution = \"hour\"\n",
    "time_agg = None\n",
    "spatial_resoultion = 0.25\n",
    "spatial_agg = None\n",
    "\n",
    "qe = GetRasterExecutor(\n",
    "    variable=variable,\n",
    "    start_datetime=start_datetime,\n",
    "    end_datetime=end_datetime,\n",
    "    min_lat=min_lat,\n",
    "    max_lat=max_lat,\n",
    "    min_lon=min_lon,\n",
    "    max_lon=max_lon,\n",
    "    temporal_resolution=time_resolution,\n",
    "    temporal_aggregation=time_agg,\n",
    "    spatial_resolution=spatial_resoultion,\n",
    "    spatial_aggregation=spatial_agg,\n",
    ")\n",
    "qe.execute()"
   ]
  },
  {
   "cell_type": "code",
   "execution_count": null,
   "metadata": {},
   "outputs": [],
   "source": []
  }
 ],
 "metadata": {
  "kernelspec": {
   "display_name": "venv",
   "language": "python",
   "name": "python3"
  },
  "language_info": {
   "codemirror_mode": {
    "name": "ipython",
    "version": 3
   },
   "file_extension": ".py",
   "mimetype": "text/x-python",
   "name": "python",
   "nbconvert_exporter": "python",
   "pygments_lexer": "ipython3",
   "version": "3.12.7"
  }
 },
 "nbformat": 4,
 "nbformat_minor": 2
}
